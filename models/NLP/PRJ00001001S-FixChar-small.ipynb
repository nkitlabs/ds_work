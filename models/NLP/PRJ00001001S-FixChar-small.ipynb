{
 "cells": [
  {
   "cell_type": "code",
   "execution_count": 66,
   "metadata": {
    "hideCode": false,
    "hidePrompt": false
   },
   "outputs": [],
   "source": [
    "import yaml\n",
    "import os\n",
    "import re\n",
    "import random\n",
    "import json\n",
    "\n",
    "with open(\"config.yaml\", \"r\") as yamlfile:\n",
    "    conf = yaml.load(yamlfile, Loader=yaml.FullLoader)\n",
    "\n",
    "START_CH = conf['CHARS']['START']\n",
    "PAD_CH = conf['CHARS']['PAD']\n",
    "OOV_CH = conf['CHARS']['OOV']\n",
    "MAX_SENTENCE = 250\n",
    "\n",
    "CHR_IDX_PATH = conf['CHAR_INDEX']\n",
    "chr_idx = {}\n",
    "\n",
    "with open(CHR_IDX_PATH, 'r', encoding='utf-8') as f_in:\n",
    "    chr_idx = json.load(f_in)\n",
    "\n",
    "idx_chr = [''] * len(chr_idx)\n",
    "for ch, i in chr_idx.items():\n",
    "    idx_chr[i] = ch"
   ]
  },
  {
   "cell_type": "markdown",
   "metadata": {},
   "source": [
    "# Preparation"
   ]
  },
  {
   "cell_type": "code",
   "execution_count": 70,
   "metadata": {},
   "outputs": [],
   "source": [
    "actuals = []\n",
    "maskeds = []\n",
    "\n",
    "def masked_chars(chs):\n",
    "    res = [ch for ch in chs]\n",
    "    for i in range(len(chs)):\n",
    "        if random.random() < 0.25:\n",
    "            if random.random() > 0.7:\n",
    "                rand_idx = random.randint(0, len(chs)-1)\n",
    "                res[i] = chs[rand_idx]\n",
    "            else:\n",
    "                res[i] = idx_chr[random.randint(0, len(idx_chr)-1)]\n",
    "    return res  \n",
    "\n",
    "for fn in os.listdir(conf['Data']['BEST_ARTICLE']):\n",
    "    with open(os.path.join(conf['Data']['BEST_ARTICLE'], fn), 'r', encoding='utf-8') as f_in:\n",
    "        data = f_in.read()\n",
    "    data = data.replace('|', '')\n",
    "    data = re.sub(r'<.+>','',data)\n",
    "    data = data.replace(r'ํา', 'ำ')\n",
    "    sentences = data.split('\\n')\n",
    "    \n",
    "    truncated_sentence = []\n",
    "    for sent in sentences:\n",
    "        if len(sent) < MAX_SENTENCE:\n",
    "            truncated_sentence.append(sent)\n",
    "            continue\n",
    "            \n",
    "        ss = sent.split(' ')\n",
    "        i = 0\n",
    "        while i < len(ss):\n",
    "            if len(ss[i]) >= MAX_SENTENCE:\n",
    "                raise Exception(f'subsentence length is more than {MAX_SENTENCE}; {len(ss[i])}')\n",
    "            \n",
    "            _s = ss[i]\n",
    "            j = i+1\n",
    "            while j < len(ss) and len(_s) + len(ss[j]) + 1 < MAX_SENTENCE:\n",
    "                _s += \" \" + ss[j]\n",
    "                j += 1\n",
    "            \n",
    "            truncated_sentence.append(_s)\n",
    "            i = j\n",
    "    \n",
    "    for s in truncated_sentence:\n",
    "        chs = list(map(lambda x: x if x in chr_idx else OOV_CH,[x for x in s]))\n",
    "        actuals.append([START_CH] + chs)\n",
    "        maskeds.append([START_CH] + masked_chars(chs))"
   ]
  },
  {
   "cell_type": "code",
   "execution_count": 71,
   "metadata": {},
   "outputs": [
    {
     "name": "stdout",
     "output_type": "stream",
     "text": [
      "['[CLS]', 'ก', 'ฎ', 'ห', 'ม', 'า', 'ย', 'ก', 'ั', 'บ', 'ก', 'า', 'ร', 'เ', 'บ', 'ี', 'ย', 'ด', 'บ', 'ั', 'ง', 'ค', 'น', 'จ', 'น']\n",
      "['[CLS]', 'ก', 'g', 'ห', 'ม', 'า', 'ย', 'ก', '๓', 'บ', 'ก', 'า', 'D', 'เ', 'ส', '฿', 'ย', 'ด', 'บ', 'ั', 'ง', 'ค', 'น', 'จ', 'ึ']\n"
     ]
    }
   ],
   "source": [
    "print(actuals[0])\n",
    "print(maskeds[0])"
   ]
  },
  {
   "cell_type": "code",
   "execution_count": 72,
   "metadata": {},
   "outputs": [
    {
     "name": "stdout",
     "output_type": "stream",
     "text": [
      "set()\n"
     ]
    }
   ],
   "source": [
    "oov = set()\n",
    "for actual in actuals:\n",
    "    for x in actual:\n",
    "        if x not in chr_idx:\n",
    "            oov.add(x)\n",
    "print(oov)"
   ]
  },
  {
   "cell_type": "code",
   "execution_count": 73,
   "metadata": {},
   "outputs": [
    {
     "name": "stdout",
     "output_type": "stream",
     "text": [
      "maximum sentence length:  250\n",
      "number of test 24842\n"
     ]
    }
   ],
   "source": [
    "max_len = 0\n",
    "for actual in actuals:\n",
    "    max_len = max(max_len, len(actual))\n",
    "print('maximum sentence length: ', max_len)\n",
    "print('number of test', len(actuals))"
   ]
  },
  {
   "cell_type": "markdown",
   "metadata": {},
   "source": [
    "# Training"
   ]
  },
  {
   "cell_type": "code",
   "execution_count": 74,
   "metadata": {},
   "outputs": [],
   "source": [
    "import tensorflow as tf\n",
    "from tqdm.keras import TqdmCallback\n",
    "\n",
    "X = [[chr_idx[x] if x in chr_idx else chr_idx['[OOV]'] for x in masked] for masked in maskeds]\n",
    "X = tf.keras.preprocessing.sequence.pad_sequences(\n",
    "    X, \n",
    "    padding='post', \n",
    "    maxlen=max_len,\n",
    "    value=chr_idx[PAD_CH],\n",
    ")\n",
    "y = [[chr_idx[x] if x in chr_idx else chr_idx['[OOV]'] for x in actual] for actual in actuals]\n",
    "y = tf.keras.preprocessing.sequence.pad_sequences(\n",
    "    y, \n",
    "    padding='post', \n",
    "    maxlen=max_len,\n",
    "    value=chr_idx[PAD_CH],\n",
    ")\n",
    "y = tf.one_hot(y, len(chr_idx))"
   ]
  },
  {
   "cell_type": "code",
   "execution_count": 64,
   "metadata": {},
   "outputs": [
    {
     "name": "stdout",
     "output_type": "stream",
     "text": [
      "\n",
      "Model: \"sequential_4\"\n",
      "_________________________________________________________________\n",
      "Layer (type)                 Output Shape              Param #   \n",
      "=================================================================\n",
      "embedding_5 (Embedding)      (None, 250, 100)          17700     \n",
      "_________________________________________________________________\n",
      "bidirectional_6 (Bidirection (None, 250, 600)          962400    \n",
      "_________________________________________________________________\n",
      "bidirectional_7 (Bidirection (None, 250, 200)          560800    \n",
      "_________________________________________________________________\n",
      "dense_4 (Dense)              (None, 250, 177)          35577     \n",
      "_________________________________________________________________\n",
      "softmax_4 (Softmax)          (None, 250, 177)          0         \n",
      "=================================================================\n",
      "Total params: 1,576,477\n",
      "Trainable params: 1,576,477\n",
      "Non-trainable params: 0\n",
      "_________________________________________________________________\n"
     ]
    }
   ],
   "source": [
    "# https://keras.io/examples/nlp/masked_language_modeling/\n",
    "model = tf.keras.Sequential([\n",
    "    tf.keras.Input(shape=(max_len,)),\n",
    "    tf.keras.layers.Embedding(\n",
    "        len(chr_idx), \n",
    "        output_dim=100,\n",
    "        embeddings_initializer=tf.keras.initializers.TruncatedNormal(stddev=0.2)\n",
    "    ),\n",
    "    tf.keras.layers.Bidirectional(tf.keras.layers.LSTM(300, return_sequences=True)),\n",
    "    tf.keras.layers.Bidirectional(tf.keras.layers.LSTM(100, return_sequences=True)),\n",
    "    tf.keras.layers.Dense(len(chr_idx)),\n",
    "    tf.keras.layers.Softmax(),\n",
    "])\n",
    "model.summary()"
   ]
  },
  {
   "cell_type": "code",
   "execution_count": 75,
   "metadata": {},
   "outputs": [
    {
     "data": {
      "application/vnd.jupyter.widget-view+json": {
       "model_id": "d3b6fd7dc88a413b9ed2d466fd9b4fb3",
       "version_major": 2,
       "version_minor": 0
      },
      "text/plain": [
       "HBox(children=(HTML(value=''), FloatProgress(value=1.0, bar_style='info', layout=Layout(width='20px'), max=1.0…"
      ]
     },
     "metadata": {},
     "output_type": "display_data"
    },
    {
     "data": {
      "application/vnd.jupyter.widget-view+json": {
       "model_id": "",
       "version_major": 2,
       "version_minor": 0
      },
      "text/plain": [
       "HBox(children=(HTML(value=''), FloatProgress(value=1.0, bar_style='info', layout=Layout(width='20px'), max=1.0…"
      ]
     },
     "metadata": {},
     "output_type": "display_data"
    },
    {
     "name": "stdout",
     "output_type": "stream",
     "text": [
      "\n",
      "\n"
     ]
    }
   ],
   "source": [
    "model.compile(optimizer='adam', loss='categorical_crossentropy')\n",
    "history = model.fit(X,y, epochs=20, verbose=0, callbacks=[TqdmCallback(verbose=1)])"
   ]
  },
  {
   "cell_type": "markdown",
   "metadata": {},
   "source": [
    "# Evaluation"
   ]
  },
  {
   "cell_type": "code",
   "execution_count": 76,
   "metadata": {},
   "outputs": [
    {
     "data": {
      "text/plain": [
       "<Figure size 432x288 with 0 Axes>"
      ]
     },
     "execution_count": 76,
     "metadata": {},
     "output_type": "execute_result"
    },
    {
     "data": {
      "image/png": "[encoded data removed]",
      "text/plain": [
       "<Figure size 432x288 with 1 Axes>"
      ]
     },
     "metadata": {
      "needs_background": "light"
     },
     "output_type": "display_data"
    },
    {
     "data": {
      "text/plain": [
       "<Figure size 432x288 with 0 Axes>"
      ]
     },
     "metadata": {},
     "output_type": "display_data"
    }
   ],
   "source": [
    "import matplotlib.image  as mpimg\n",
    "import matplotlib.pyplot as plt\n",
    "%matplotlib inline\n",
    "\n",
    "loss=history.history['loss']\n",
    "\n",
    "epochs=range(len(loss)) # Get number of epochs\n",
    "\n",
    "plt.plot(epochs, loss, 'r')\n",
    "plt.title('Training loss')\n",
    "plt.xlabel(\"Epochs\")\n",
    "plt.ylabel(\"Loss\")\n",
    "plt.legend([\"Loss\"])\n",
    "\n",
    "plt.figure()"
   ]
  },
  {
   "cell_type": "code",
   "execution_count": 82,
   "metadata": {},
   "outputs": [
    {
     "name": "stdout",
     "output_type": "stream",
     "text": [
      "['[CLS]', 'แ', 'ต', '่', 'ใ', 'น', 'ก', 'า', 'ร', 'ศ', 'ึ', 'ก', 'ษ', 'า', 'น', 'ี', '้', 'ม', 'ุ', '่', 'ง', 'ต', '้', 'อ', 'ง', 'ก', 'า', 'ร', 'ท', 'ี', '่', 'จ', 'ะ', 'ส', 'ะ', 'ท', '้', 'อ', 'น', 'ภ', 'า', 'พ', 'ค', 'ว', 'า', 'ม', 'ไ', 'ม', '่', 'ส', 'ม', 'ด', 'ุ', 'ล', ' ', 'ค', 'ว', 'า', 'ม', 'ไ', 'ม', '่', 'เ', 'ส', 'ม', 'อ', 'ภ', 'า', 'ค', ' ', 'ห', 'ร', 'ื', 'อ', 'ค', 'ว', 'า', 'ม', 'ไ', 'ม', '่', 'เ', 'ท', '่', 'า', 'เ', 'ท', 'ี', 'ย', 'ม', ' ', 'ท', 'ี', '่', 'ม', 'ี', 'อ', 'ย', 'ู', '่', 'ใ', 'น', 'ค', 'ว', 'า', 'ม', 'เ', 'ป', '็', 'น', 'จ', 'ร', 'ิ', 'ง', ' ', 'แ', 'ต', '่', 'ถ', 'ู', 'ก', 'ต', 'ั', 'ด', 'ต', 'อ', 'น', ' ', 'ป', 'ิ', 'ด', 'ป', 'า', 'ก', ' ', 'ไ', 'ม', '่', 'ส', 'า', 'ม', 'า', 'ร', 'ถ', 'น', 'ำ', 'ม', 'า', 'อ', '้', 'า', 'ง', 'ไ', 'ด', '้', 'ใ', 'น', 'ท', 'า', 'ง', 'ก', 'ฎ', 'ห', 'ม', 'า', 'ย', ' ', 'ภ', 'า', 'ย', 'ใ', 'ต', '้', 'ก', 'ฎ', 'ห', 'ม', 'า', 'ย']\n",
      "['[CLS]', 'แ', 'ต', '่', 'ใ', 'น', 'ก', 'V', 'ร', 'ศ', 'ึ', 'ก', 'ษ', 'า', 'น', '<', '้', '@', '๘', '่', 'ง', 'ต', '้', 'อ', 'ง', 'ก', 'า', 'ร', 'ท', 'ี', '่', '่', 'ะ', 'เ', 'ะ', 'ท', '้', 'd', 'ฯ', 'ภ', 'น', 'พ', 'ค', 'S', '#', 'ม', 'ผ', 'ม', '่', 'ส', 'ม', 'ด', 'ุ', 'ล', ' ', 'ค', 'ว', 'a', 'ม', 'ไ', 'ม', '่', 'เ', 'ส', 'v', 'อ', 'ภ', 'า', 'ค', 'ภ', 'ห', 'ร', 'ื', 'อ', 'ษ', 'ี', '5', '!', 'ไ', 'ม', '_', 'เ', 'ท', '่', 'า', 'เ', 'ท', 'ี', \"'\", 'ม', '$', '๔', '9', 'ร', 'ม', 'ี', 'อ', 'ย', 'ู', '่', 'ใ', 'บ', 'ค', 'O', 'า', 'ม', 'ุ', '๐', 'ฮ', 'น', 'i', 'ร', 'ิ', 'ง', ' ', 'แ', 'ต', '่', 'ถ', 'ู', 'ก', '้', 'ั', 'ง', 'ต', 'อ', 'น', 'r', 'ป', '์', 'ฏ', 'ป', 'า', 'ก', 'บ', 'ไ', 'ม', '่', 'ส', 'ห', '@', 'ร', 'ร', 'ถ', 'น', 'ำ', 'ม', 'า', 'อ', '้', 'า', 'ง', 'ไ', 'ด', '้', 'ฝ', 'น', 'ท', 'า', 'ง', 'ก', 'ฎ', 'ห', 'ม', 'า', 'ย', 'F', 'ภ', 'า', 'ย', 'ใ', 'ต', '้', 'ก', 'ฎ', 'ห', 'ม', 'ม', 'ย']\n",
      "['[CLS]', 'แ', 'ต', '่', 'ใ', 'น', 'ก', 'V', 'ร', 'ศ', 'ึ', 'ก', '[CLS]', 'า', 'น', '่', '้', '-', '[CLS]', '่', 'ง', 'ต', '้', 'อ', 'ง', 'ก', 'า', 'ร', 'ท', 'ี', '่', '่', 'ะ', 'เ', 'ะ', 'ท', '้', '[CLS]', 'ฯ', 'ภ', 'น', 'พ', 'ค', 'S', '?', 'ม', 'ผ', 'ม', '่', 'ส', 'ม', 'ด', 'ุ', 'ล', ' ', 'ค', 'ว', 'a', 'ม', 'ไ', 'ม', '่', 'เ', 'ส', 'v', 'อ', 'ภ', 'า', 'ค', 'ภ', 'ห', 'ร', 'ื', 'อ', '[CLS]', 'ี', '5', '!', 'ไ', 'ม', '[CLS]', 'เ', 'ท', '่', 'า', 'เ', 'ท', 'ี', \"'\", 'ม', 'O', '๔', '9', 'ร', 'ม', 'ี', 'อ', 'ย', 'ู', '่', 'ใ', 'บ', 'ค', 'O', 'า', 'ม', 'ุ', '๐', 'ฮ', 'น', 'i', 'ร', 'ิ', 'ง', ' ', 'แ', 'ต', '่', 'ถ', 'ู', 'ก', '้', 'ั', 'ง', 'ต', 'อ', 'น', 'r', 'ป', '์', '[CLS]', 'ป', 'า', 'ก', 'บ', 'ไ', 'ม', '่', 'ส', 'ห', '-', 'ร', 'ร', 'ถ', 'น', 'ำ', 'ม', 'า', 'อ', '้', 'า', 'ง', 'ไ', 'ด', '้', 'ฝ', 'น', 'ท', 'า', 'ง', 'ก', 'ฎ', 'ห', 'ม', 'า', 'ย', 'F', 'ภ', 'า', 'ย', 'ใ', 'ต', '้', 'ก', 'ฎ', 'ห', 'ม', 'ม', 'ย', '[PAD]', '[PAD]', '[PAD]', '[PAD]', '[PAD]', '[PAD]', '[PAD]', '[PAD]', '[PAD]', '[PAD]', '[PAD]', '[PAD]', '[PAD]', '[PAD]', '[PAD]', '[PAD]', '[PAD]', '[PAD]', '[PAD]', '[PAD]', '[PAD]', '[PAD]', '[PAD]', '[PAD]', '[PAD]', '[PAD]', '[PAD]', '[PAD]', '[PAD]', '[PAD]', '[PAD]', '[PAD]', '[PAD]', '[PAD]', '[PAD]', '[PAD]', '[PAD]', '[PAD]', '[PAD]', '[PAD]', '[PAD]', '[PAD]', '[PAD]', '[PAD]', '[PAD]', '[PAD]', '[PAD]', '[PAD]', '[PAD]', '[PAD]', '[PAD]', '[PAD]', '[PAD]', '[PAD]', '[PAD]', '[PAD]', '[PAD]', '[PAD]', '[PAD]', '[PAD]', '[PAD]', '[PAD]', '[PAD]', '[PAD]', '[PAD]', '[PAD]', '[PAD]', '[PAD]', '[PAD]', '[PAD]', '[PAD]']\n"
     ]
    }
   ],
   "source": [
    "test_id = 10\n",
    "pred = model.predict([X[test_id]])\n",
    "pred_arg = tf.math.argmax(pred, 2)\n",
    "\n",
    "s = []\n",
    "for x in pred_arg:\n",
    "    s.append(idx_chr[int(x[0])])\n",
    "print(actuals[test_id])\n",
    "print(maskeds[test_id])\n",
    "print(s)"
   ]
  },
  {
   "cell_type": "code",
   "execution_count": 83,
   "metadata": {},
   "outputs": [
    {
     "name": "stdout",
     "output_type": "stream",
     "text": [
      "1 [CLS] 0.1826175\n",
      "156 - 0.10686393\n",
      "154 [ 0.10447237\n",
      "95 ษ 0.082743555\n",
      "138 ๒ 0.07361249\n",
      "76 ด 0.027698735\n",
      "64 จ 0.019802215\n",
      "115 โ 0.017759051\n",
      "113 เ 0.017371649\n",
      "35 E 0.01635566\n",
      "101 ฯ 0.016289044\n"
     ]
    }
   ],
   "source": [
    "arg_score = sorted(list(range(len(chr_idx))), key=lambda x: pred[12][0][x], reverse=True)\n",
    "for i, idx in enumerate(arg_score):\n",
    "    if i > 10:\n",
    "        break\n",
    "    print(idx, idx_chr[idx], pred[12][0][idx])"
   ]
  },
  {
   "cell_type": "markdown",
   "metadata": {},
   "source": [
    "# Conclusion\n",
    "\n",
    "This model doesn't work. The model itself doesn't try to change incorrect characters. This is may be because\n",
    "\n",
    "- inappropriate loss function.\n",
    "- small number of epoches.\n",
    "- too much masked characters.\n",
    "\n",
    "In doing an experiment, smaller testcase should be used."
   ]
  },
  {
   "cell_type": "code",
   "execution_count": null,
   "metadata": {},
   "outputs": [],
   "source": []
  }
 ],
 "metadata": {
  "hide_code_all_hidden": false,
  "kernelspec": {
   "display_name": "Python 3",
   "language": "python",
   "name": "python3"
  },
  "language_info": {
   "codemirror_mode": {
    "name": "ipython",
    "version": 3
   },
   "file_extension": ".py",
   "mimetype": "text/x-python",
   "name": "python",
   "nbconvert_exporter": "python",
   "pygments_lexer": "ipython3",
   "version": "3.7.3"
  }
 },
 "nbformat": 4,
 "nbformat_minor": 2
}

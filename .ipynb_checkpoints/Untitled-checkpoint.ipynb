{
 "cells": [
  {
   "cell_type": "code",
   "execution_count": 2,
   "metadata": {},
   "outputs": [],
   "source": [
    "import math\n",
    "\n",
    "import pandas as pd\n",
    "import numpy as np\n"
   ]
  },
  {
   "cell_type": "code",
   "execution_count": 2,
   "metadata": {},
   "outputs": [],
   "source": [
    "class Regression(object):\n",
    "    \"\"\" Base regression model, predicting relationship between input paramenters (X) and outcomes (Y).\n",
    "    \n",
    "    Parameters\n",
    "    ----------\n",
    "    n_iterator: float\n",
    "        The number of training iterations.\n",
    "    learning_rate: float\n",
    "        The proportion of the rate at which the model weights change.\n",
    "    \"\"\"\n",
    "    \n",
    "    def __init__(self, n_iterator, learning_rate):\n",
    "        self.n_iterator = n_iterator\n",
    "        self.learning_rate = learning_rate\n",
    "    \n",
    "    def fit(self, X, y):\n",
    "        X = np.insert(X, 0, 1, axis=1)\n",
    "        self.n_features = X.shape[1]\n",
    "        limit = 0.2\n",
    "        self.w = np.random.uniform(-limit, limit, (n_features, ))\n",
    "        self.training_errors = []\n",
    "        \n",
    "         # Do gradient descent for n_iterations\n",
    "        for i in range(self.n_iterations):\n",
    "            y_pred = X.dot(self.w)\n",
    "            mse = np.mean(0.5 * (y - y_pred)**2 + self.regularization(self.w))\n",
    "            grad_w = -(y - y_pred).dot(X) + self.regularization.grad(self.w)\n",
    "            \n",
    "            self.training_errors.append(mse)\n",
    "            self.w -= self.learning_rate * grad_w\n",
    "    \n",
    "    def predict(self, X):\n",
    "        X = np.insert(X, 0, 1, axis=1)\n",
    "        y_pred = X.dot(self.w)\n",
    "        return y_pred\n",
    "\n",
    "class LinearRegression(Regression):\n",
    "    \n",
    "    def __init__(self, n_iterator=1000, learning_rate=0.05, optimizer='auto'):\n",
    "        super().__init__(n_iterator, learning_rate)\n",
    "        self.optimizer = optimizer\n",
    "    def fit(self, X, y):\n",
    "        if optimizer in ['auto', 'gradient_descent']:\n",
    "            super().fit(X, y)\n",
    "        elif optimizer in ['least_square']:\n",
    "            X = np.insert(X, 0, 1, axis=1)\n",
    "            U, S, V = np.linalg.svd(X.T.dot(X))\n",
    "            S = np.diag(S)\n",
    "            X_sq_reg_inv = V.dot(np.linalg.pinv(S)).dot(U.T)\n",
    "            self.w = X_sq_reg_inv.dot(X.T).dot(y)\n",
    "        "
   ]
  },
  {
   "cell_type": "code",
   "execution_count": 7,
   "metadata": {},
   "outputs": [
    {
     "data": {
      "text/plain": [
       "array([[1, 1],\n",
       "       [1, 2],\n",
       "       [1, 3]])"
      ]
     },
     "execution_count": 7,
     "metadata": {},
     "output_type": "execute_result"
    }
   ],
   "source": [
    "X = np.array([[1],[2],[3]])\n",
    "np.insert(X, 0, 1, axis=1)"
   ]
  },
  {
   "cell_type": "code",
   "execution_count": 32,
   "metadata": {},
   "outputs": [],
   "source": [
    "class tmp(object):\n",
    "    def __init__(self, x):\n",
    "        self.x = x\n",
    "        self.a = 3\n",
    "        print(self.__dict__)\n",
    "    def pr(self):\n",
    "        print(4)\n",
    "    \n",
    "x_tmp = tmp(3)\n",
    "\n",
    "import pickle\n",
    "\n",
    "with open('./tmp_pckl_data.pickle', 'wb') as f:\n",
    "    pickle.dump(x_tmp, f)\n",
    "    \n",
    "with open('./tmp_pckl_data.pickle', 'rb') as f:\n",
    "    loaded_obj = pickle.load(f)\n",
    "    \n",
    "x_tmp.__dict__\n",
    "getattr(x_tmp, 'a')"
   ]
  },
  {
   "cell_type": "code",
   "execution_count": 40,
   "metadata": {},
   "outputs": [
    {
     "name": "stdout",
     "output_type": "stream",
     "text": [
      "4\n"
     ]
    }
   ],
   "source": [
    "loaded_obj.pr()"
   ]
  },
  {
   "cell_type": "code",
   "execution_count": 3,
   "metadata": {},
   "outputs": [
    {
     "data": {
      "text/plain": [
       "<__main__.LinearRegression at 0x1a63c5f1a90>"
      ]
     },
     "execution_count": 3,
     "metadata": {},
     "output_type": "execute_result"
    }
   ],
   "source": [
    "LinearRegression(1000, 0.5)"
   ]
  },
  {
   "cell_type": "code",
   "execution_count": null,
   "metadata": {},
   "outputs": [],
   "source": []
  }
 ],
 "metadata": {
  "kernelspec": {
   "display_name": "Python 3",
   "language": "python",
   "name": "python3"
  },
  "language_info": {
   "codemirror_mode": {
    "name": "ipython",
    "version": 3
   },
   "file_extension": ".py",
   "mimetype": "text/x-python",
   "name": "python",
   "nbconvert_exporter": "python",
   "pygments_lexer": "ipython3",
   "version": "3.7.3"
  }
 },
 "nbformat": 4,
 "nbformat_minor": 2
}
